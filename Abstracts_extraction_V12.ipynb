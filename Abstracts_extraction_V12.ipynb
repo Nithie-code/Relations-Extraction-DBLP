{
 "cells": [
  {
   "cell_type": "code",
   "execution_count": 13,
   "metadata": {},
   "outputs": [],
   "source": [
    "import re\n",
    "import json\n",
    "import io\n",
    "import string"
   ]
  },
  {
   "cell_type": "code",
   "execution_count": 14,
   "metadata": {},
   "outputs": [],
   "source": [
    "data=json.load(io.open('D:/Short Datasets/DBLP_V12_Relations/DBLP_CS.json', 'r', encoding='utf-8-sig'))"
   ]
  },
  {
   "cell_type": "code",
   "execution_count": 19,
   "metadata": {},
   "outputs": [],
   "source": [
    "i=0\n",
    "while i<len(data):\n",
    "    paper=str(data[i])\n",
    "    paper1=eval(paper)\n",
    "    paper_id=paper1['id']\n",
    "    \n",
    "    abstract1=str(paper1['indexed_abstract'])\n",
    "    result1 = re.sub(r\"[,@\\'?\\.$%_]\", \"\", abstract1, flags=re.I)\n",
    "    result2 = re.sub(r\":\", \"\", result1, flags=re.I)\n",
    "    result6 = re.sub(r\"\\[\", \"\", result2, flags=re.I)\n",
    "    result7 = re.sub(r\"\\]\", \"\", result6, flags=re.I)\n",
    "    resultfinal = re.sub(r\"\\d\", \"\", result7, flags=re.I)\n",
    "    resultfinal1 = re.sub(r\"IndexLength\", \"\", resultfinal, flags=re.I)\n",
    "    resultfinal2 = re.sub(r\"InvertedIndex\", \"\", resultfinal1, flags=re.I)\n",
    "    final_txt1=resultfinal2.replace(\"/\", \"\")\n",
    "    final_txt2=final_txt1.replace(\"\\\\\", \"\") \n",
    "    final_txt3=final_txt2.strip(\"{ }\")\n",
    "    final_txt=final_txt3.strip()\n",
    "    final_txt1=re.findall('[\\w]+', final_txt.lower())\n",
    "    listToStr = ' '.join([str(elem) for elem in final_txt1])\n",
    "    if type(listToStr) is not None:\n",
    "        dictionary={\n",
    "            \"id\":paper_id,\n",
    "            \"abstract\":listToStr\n",
    "        }\n",
    "        #print(final_txt)\n",
    "        #with open(\"D:/DBLP_Dataset/dblp_abstracts.json\", \"a+\") as outfile:\n",
    "        with io.open('D:/Short Datasets/DBLP_V12_Relations/Abstracts_IR.json', \"a+\", encoding=\"utf-8\") as outfile:\n",
    "            json.dump(dictionary, outfile, ensure_ascii=False)\n",
    "            outfile.write(\"\\n\")\n",
    "            outfile.write(\",\")\n",
    "    i=i+1"
   ]
  },
  {
   "cell_type": "code",
   "execution_count": 21,
   "metadata": {},
   "outputs": [],
   "source": [
    "data=json.load(io.open('D:/Short Datasets/DBLP_V12_Relations/Abstracts_IR.json', 'r', encoding='utf-8-sig'))"
   ]
  },
  {
   "cell_type": "code",
   "execution_count": 9,
   "metadata": {},
   "outputs": [],
   "source": [
    "data=json.load(io.open('D:/Short Datasets/dblp_abstracts_V12_21.json', 'r', encoding='utf-8-sig'))"
   ]
  },
  {
   "cell_type": "code",
   "execution_count": 10,
   "metadata": {},
   "outputs": [],
   "source": [
    "i=0\n",
    "while i<len(data):\n",
    "    paper=str(data[i])\n",
    "    paper1=eval(paper)\n",
    "    paper_id=paper1['id']\n",
    "    \n",
    "    abstract=paper1['abstract']\n",
    "    if abstract!=\"\":\n",
    "        dictionary={\n",
    "            \"id\":paper_id,\n",
    "            \"abstract\":abstract\n",
    "        }\n",
    "        #print(final_txt)\n",
    "        #with open(\"D:/DBLP_Dataset/dblp_abstracts.json\", \"a+\") as outfile:\n",
    "        with io.open('D:/Short Datasets/tags_v12.json', \"a+\", encoding=\"utf-8\") as outfile:\n",
    "            json.dump(dictionary, outfile, ensure_ascii=False)\n",
    "            outfile.write(\"\\n\")\n",
    "            outfile.write(\",\")\n",
    "    i=i+1"
   ]
  },
  {
   "cell_type": "code",
   "execution_count": null,
   "metadata": {},
   "outputs": [],
   "source": []
  }
 ],
 "metadata": {
  "kernelspec": {
   "display_name": "Python 3 (ipykernel)",
   "language": "python",
   "name": "python3"
  },
  "language_info": {
   "codemirror_mode": {
    "name": "ipython",
    "version": 3
   },
   "file_extension": ".py",
   "mimetype": "text/x-python",
   "name": "python",
   "nbconvert_exporter": "python",
   "pygments_lexer": "ipython3",
   "version": "3.7.8"
  }
 },
 "nbformat": 4,
 "nbformat_minor": 2
}
